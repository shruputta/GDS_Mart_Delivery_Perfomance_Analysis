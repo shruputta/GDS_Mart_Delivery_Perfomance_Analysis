{
 "cells": [
  {
   "cell_type": "code",
   "execution_count": 1,
   "id": "a5e58358",
   "metadata": {},
   "outputs": [],
   "source": [
    "#importing pandas\n",
    "import pandas as pd\n"
   ]
  },
  {
   "cell_type": "code",
   "execution_count": 64,
   "id": "7968c83e",
   "metadata": {},
   "outputs": [
    {
     "data": {
      "text/html": [
       "<div>\n",
       "<style scoped>\n",
       "    .dataframe tbody tr th:only-of-type {\n",
       "        vertical-align: middle;\n",
       "    }\n",
       "\n",
       "    .dataframe tbody tr th {\n",
       "        vertical-align: top;\n",
       "    }\n",
       "\n",
       "    .dataframe thead th {\n",
       "        text-align: right;\n",
       "    }\n",
       "</style>\n",
       "<table border=\"1\" class=\"dataframe\">\n",
       "  <thead>\n",
       "    <tr style=\"text-align: right;\">\n",
       "      <th></th>\n",
       "      <th>order_id</th>\n",
       "      <th>order_placement_date</th>\n",
       "      <th>customer_id</th>\n",
       "      <th>product_id</th>\n",
       "      <th>order_qty</th>\n",
       "      <th>agreed_delivery_date</th>\n",
       "      <th>actual_delivery_date</th>\n",
       "      <th>delivery_qty</th>\n",
       "      <th>In Full</th>\n",
       "      <th>On Time</th>\n",
       "      <th>On Time In Full</th>\n",
       "    </tr>\n",
       "  </thead>\n",
       "  <tbody>\n",
       "    <tr>\n",
       "      <th>0</th>\n",
       "      <td>FMR32603203</td>\n",
       "      <td>01-Mar-22</td>\n",
       "      <td>789603</td>\n",
       "      <td>25891203</td>\n",
       "      <td>460</td>\n",
       "      <td>02-Mar-22</td>\n",
       "      <td>03-Mar-22</td>\n",
       "      <td>460</td>\n",
       "      <td>1</td>\n",
       "      <td>0</td>\n",
       "      <td>1</td>\n",
       "    </tr>\n",
       "    <tr>\n",
       "      <th>1</th>\n",
       "      <td>FMR33401603</td>\n",
       "      <td>01-Mar-22</td>\n",
       "      <td>789401</td>\n",
       "      <td>25891203</td>\n",
       "      <td>429</td>\n",
       "      <td>03-Mar-22</td>\n",
       "      <td>03-Mar-22</td>\n",
       "      <td>429</td>\n",
       "      <td>1</td>\n",
       "      <td>1</td>\n",
       "      <td>1</td>\n",
       "    </tr>\n",
       "    <tr>\n",
       "      <th>2</th>\n",
       "      <td>FMR32320302</td>\n",
       "      <td>01-Mar-22</td>\n",
       "      <td>789320</td>\n",
       "      <td>25891203</td>\n",
       "      <td>347</td>\n",
       "      <td>02-Mar-22</td>\n",
       "      <td>02-Mar-22</td>\n",
       "      <td>347</td>\n",
       "      <td>1</td>\n",
       "      <td>1</td>\n",
       "      <td>1</td>\n",
       "    </tr>\n",
       "    <tr>\n",
       "      <th>3</th>\n",
       "      <td>FMR33320501</td>\n",
       "      <td>01-Mar-22</td>\n",
       "      <td>789320</td>\n",
       "      <td>25891203</td>\n",
       "      <td>187</td>\n",
       "      <td>03-Mar-22</td>\n",
       "      <td>03-Mar-22</td>\n",
       "      <td>150</td>\n",
       "      <td>0</td>\n",
       "      <td>1</td>\n",
       "      <td>0</td>\n",
       "    </tr>\n",
       "    <tr>\n",
       "      <th>4</th>\n",
       "      <td>FMR34220601</td>\n",
       "      <td>01-Mar-22</td>\n",
       "      <td>789220</td>\n",
       "      <td>25891203</td>\n",
       "      <td>235</td>\n",
       "      <td>04-Mar-22</td>\n",
       "      <td>04-Mar-22</td>\n",
       "      <td>235</td>\n",
       "      <td>1</td>\n",
       "      <td>1</td>\n",
       "      <td>1</td>\n",
       "    </tr>\n",
       "    <tr>\n",
       "      <th>...</th>\n",
       "      <td>...</td>\n",
       "      <td>...</td>\n",
       "      <td>...</td>\n",
       "      <td>...</td>\n",
       "      <td>...</td>\n",
       "      <td>...</td>\n",
       "      <td>...</td>\n",
       "      <td>...</td>\n",
       "      <td>...</td>\n",
       "      <td>...</td>\n",
       "      <td>...</td>\n",
       "    </tr>\n",
       "    <tr>\n",
       "      <th>57091</th>\n",
       "      <td>FAUG831420303</td>\n",
       "      <td>30-Aug-22</td>\n",
       "      <td>789420</td>\n",
       "      <td>25891303</td>\n",
       "      <td>24</td>\n",
       "      <td>31-Aug-22</td>\n",
       "      <td>30-Aug-22</td>\n",
       "      <td>24</td>\n",
       "      <td>1</td>\n",
       "      <td>1</td>\n",
       "      <td>1</td>\n",
       "    </tr>\n",
       "    <tr>\n",
       "      <th>57092</th>\n",
       "      <td>FAUG831122303</td>\n",
       "      <td>30-Aug-22</td>\n",
       "      <td>789122</td>\n",
       "      <td>25891303</td>\n",
       "      <td>67</td>\n",
       "      <td>31-Aug-22</td>\n",
       "      <td>31-Aug-22</td>\n",
       "      <td>54</td>\n",
       "      <td>0</td>\n",
       "      <td>1</td>\n",
       "      <td>0</td>\n",
       "    </tr>\n",
       "    <tr>\n",
       "      <th>57093</th>\n",
       "      <td>FAUG831702303</td>\n",
       "      <td>30-Aug-22</td>\n",
       "      <td>789702</td>\n",
       "      <td>25891303</td>\n",
       "      <td>41</td>\n",
       "      <td>31-Aug-22</td>\n",
       "      <td>30-Aug-22</td>\n",
       "      <td>37</td>\n",
       "      <td>0</td>\n",
       "      <td>1</td>\n",
       "      <td>0</td>\n",
       "    </tr>\n",
       "    <tr>\n",
       "      <th>57094</th>\n",
       "      <td>FAUG831221503</td>\n",
       "      <td>30-Aug-22</td>\n",
       "      <td>789221</td>\n",
       "      <td>25891303</td>\n",
       "      <td>92</td>\n",
       "      <td>31-Aug-22</td>\n",
       "      <td>31-Aug-22</td>\n",
       "      <td>83</td>\n",
       "      <td>0</td>\n",
       "      <td>1</td>\n",
       "      <td>0</td>\n",
       "    </tr>\n",
       "    <tr>\n",
       "      <th>57095</th>\n",
       "      <td>FAUG831202303</td>\n",
       "      <td>30-Aug-22</td>\n",
       "      <td>789202</td>\n",
       "      <td>25891303</td>\n",
       "      <td>29</td>\n",
       "      <td>31-Aug-22</td>\n",
       "      <td>01-Sep-22</td>\n",
       "      <td>29</td>\n",
       "      <td>1</td>\n",
       "      <td>0</td>\n",
       "      <td>1</td>\n",
       "    </tr>\n",
       "  </tbody>\n",
       "</table>\n",
       "<p>57096 rows × 11 columns</p>\n",
       "</div>"
      ],
      "text/plain": [
       "            order_id order_placement_date  customer_id  product_id  order_qty  \\\n",
       "0        FMR32603203            01-Mar-22       789603    25891203        460   \n",
       "1        FMR33401603            01-Mar-22       789401    25891203        429   \n",
       "2        FMR32320302            01-Mar-22       789320    25891203        347   \n",
       "3        FMR33320501            01-Mar-22       789320    25891203        187   \n",
       "4        FMR34220601            01-Mar-22       789220    25891203        235   \n",
       "...              ...                  ...          ...         ...        ...   \n",
       "57091  FAUG831420303            30-Aug-22       789420    25891303         24   \n",
       "57092  FAUG831122303            30-Aug-22       789122    25891303         67   \n",
       "57093  FAUG831702303            30-Aug-22       789702    25891303         41   \n",
       "57094  FAUG831221503            30-Aug-22       789221    25891303         92   \n",
       "57095  FAUG831202303            30-Aug-22       789202    25891303         29   \n",
       "\n",
       "      agreed_delivery_date actual_delivery_date  delivery_qty  In Full  \\\n",
       "0                02-Mar-22            03-Mar-22           460        1   \n",
       "1                03-Mar-22            03-Mar-22           429        1   \n",
       "2                02-Mar-22            02-Mar-22           347        1   \n",
       "3                03-Mar-22            03-Mar-22           150        0   \n",
       "4                04-Mar-22            04-Mar-22           235        1   \n",
       "...                    ...                  ...           ...      ...   \n",
       "57091            31-Aug-22            30-Aug-22            24        1   \n",
       "57092            31-Aug-22            31-Aug-22            54        0   \n",
       "57093            31-Aug-22            30-Aug-22            37        0   \n",
       "57094            31-Aug-22            31-Aug-22            83        0   \n",
       "57095            31-Aug-22            01-Sep-22            29        1   \n",
       "\n",
       "       On Time  On Time In Full  \n",
       "0            0                1  \n",
       "1            1                1  \n",
       "2            1                1  \n",
       "3            1                0  \n",
       "4            1                1  \n",
       "...        ...              ...  \n",
       "57091        1                1  \n",
       "57092        1                0  \n",
       "57093        1                0  \n",
       "57094        1                0  \n",
       "57095        0                1  \n",
       "\n",
       "[57096 rows x 11 columns]"
      ]
     },
     "execution_count": 64,
     "metadata": {},
     "output_type": "execute_result"
    }
   ],
   "source": [
    "# Importing data set \n",
    "dim_customers_df=pd.read_csv(\"D:\\\\Da_Bootcamp\\\\Hackathon_DA_Noob_1.0\\\\Raw Data\\\\dim_customers.csv\")\n",
    "dim_date_df=pd.read_csv(\"D:\\\\Da_Bootcamp\\\\Hackathon_DA_Noob_1.0\\\\Raw Data\\\\dim_date.csv\")\n",
    "dim_products_df=pd.read_csv(\"D:\\\\Da_Bootcamp\\\\Hackathon_DA_Noob_1.0\\\\Raw Data\\\\dim_products.csv\")\n",
    "dim_targets_orders_df=pd.read_csv(\"D:\\\\Da_Bootcamp\\\\Hackathon_DA_Noob_1.0\\\\Raw Data\\\\dim_targets_orders.csv\")\n",
    "fact_order_lines_df=pd.read_csv(\"D:\\\\Da_Bootcamp\\\\Hackathon_DA_Noob_1.0\\\\Raw Data\\\\fact_order_lines.csv\")\n",
    "fact_order_aggregate_df=pd.read_csv(\"D:\\\\Da_Bootcamp\\\\Hackathon_DA_Noob_1.0\\\\Raw Data\\\\fact_orders_aggregate.csv\")\n",
    "\n",
    "\n",
    "fact_order_lines_df"
   ]
  },
  {
   "cell_type": "code",
   "execution_count": 38,
   "id": "1b75f9ba",
   "metadata": {},
   "outputs": [],
   "source": [
    "#RENAME columns simlar to fact_order_line table\n",
    "fact_order_aggregate_df=fact_order_aggregate_df.rename(columns={'on_time':'On Time','in_full':'In Full','otif':'On Time In Full'})"
   ]
  },
  {
   "cell_type": "code",
   "execution_count": 39,
   "id": "8f441a8e",
   "metadata": {},
   "outputs": [
    {
     "data": {
      "text/html": [
       "<div>\n",
       "<style scoped>\n",
       "    .dataframe tbody tr th:only-of-type {\n",
       "        vertical-align: middle;\n",
       "    }\n",
       "\n",
       "    .dataframe tbody tr th {\n",
       "        vertical-align: top;\n",
       "    }\n",
       "\n",
       "    .dataframe thead th {\n",
       "        text-align: right;\n",
       "    }\n",
       "</style>\n",
       "<table border=\"1\" class=\"dataframe\">\n",
       "  <thead>\n",
       "    <tr style=\"text-align: right;\">\n",
       "      <th></th>\n",
       "      <th>order_id</th>\n",
       "      <th>customer_id</th>\n",
       "      <th>order_placement_date</th>\n",
       "      <th>On Time</th>\n",
       "      <th>In Full</th>\n",
       "      <th>On Time In Full</th>\n",
       "    </tr>\n",
       "  </thead>\n",
       "  <tbody>\n",
       "    <tr>\n",
       "      <th>0</th>\n",
       "      <td>FMR32103503</td>\n",
       "      <td>789103</td>\n",
       "      <td>01-Mar-22</td>\n",
       "      <td>1</td>\n",
       "      <td>0</td>\n",
       "      <td>0</td>\n",
       "    </tr>\n",
       "    <tr>\n",
       "      <th>1</th>\n",
       "      <td>FMR34103403</td>\n",
       "      <td>789103</td>\n",
       "      <td>01-Mar-22</td>\n",
       "      <td>1</td>\n",
       "      <td>0</td>\n",
       "      <td>0</td>\n",
       "    </tr>\n",
       "    <tr>\n",
       "      <th>2</th>\n",
       "      <td>FMR32103602</td>\n",
       "      <td>789103</td>\n",
       "      <td>01-Mar-22</td>\n",
       "      <td>1</td>\n",
       "      <td>0</td>\n",
       "      <td>0</td>\n",
       "    </tr>\n",
       "    <tr>\n",
       "      <th>3</th>\n",
       "      <td>FMR33103602</td>\n",
       "      <td>789103</td>\n",
       "      <td>01-Mar-22</td>\n",
       "      <td>1</td>\n",
       "      <td>0</td>\n",
       "      <td>0</td>\n",
       "    </tr>\n",
       "    <tr>\n",
       "      <th>4</th>\n",
       "      <td>FMR33103401</td>\n",
       "      <td>789103</td>\n",
       "      <td>01-Mar-22</td>\n",
       "      <td>1</td>\n",
       "      <td>0</td>\n",
       "      <td>0</td>\n",
       "    </tr>\n",
       "  </tbody>\n",
       "</table>\n",
       "</div>"
      ],
      "text/plain": [
       "      order_id  customer_id order_placement_date  On Time  In Full  \\\n",
       "0  FMR32103503       789103            01-Mar-22        1        0   \n",
       "1  FMR34103403       789103            01-Mar-22        1        0   \n",
       "2  FMR32103602       789103            01-Mar-22        1        0   \n",
       "3  FMR33103602       789103            01-Mar-22        1        0   \n",
       "4  FMR33103401       789103            01-Mar-22        1        0   \n",
       "\n",
       "   On Time In Full  \n",
       "0                0  \n",
       "1                0  \n",
       "2                0  \n",
       "3                0  \n",
       "4                0  "
      ]
     },
     "execution_count": 39,
     "metadata": {},
     "output_type": "execute_result"
    }
   ],
   "source": [
    "fact_order_aggregate_df.head()"
   ]
  },
  {
   "cell_type": "code",
   "execution_count": 40,
   "id": "d49d2152",
   "metadata": {},
   "outputs": [
    {
     "data": {
      "text/plain": [
       "customer_id      False\n",
       "customer_name    False\n",
       "city             False\n",
       "dtype: bool"
      ]
     },
     "execution_count": 40,
     "metadata": {},
     "output_type": "execute_result"
    }
   ],
   "source": [
    "#check Null Values\n",
    "dim_customers_df.isnull().any()"
   ]
  },
  {
   "cell_type": "code",
   "execution_count": 41,
   "id": "9b0d7cde",
   "metadata": {},
   "outputs": [
    {
     "data": {
      "text/plain": [
       "date       False\n",
       "mmm_yy     False\n",
       "week_no    False\n",
       "dtype: bool"
      ]
     },
     "execution_count": 41,
     "metadata": {},
     "output_type": "execute_result"
    }
   ],
   "source": [
    "dim_date_df.isnull().any()"
   ]
  },
  {
   "cell_type": "code",
   "execution_count": 42,
   "id": "7632352c",
   "metadata": {},
   "outputs": [
    {
     "data": {
      "text/plain": [
       "product_name    False\n",
       "product_id      False\n",
       "category        False\n",
       "dtype: bool"
      ]
     },
     "execution_count": 42,
     "metadata": {},
     "output_type": "execute_result"
    }
   ],
   "source": [
    "dim_products_df.isnull().any()"
   ]
  },
  {
   "cell_type": "code",
   "execution_count": 43,
   "id": "1cd4eb0a",
   "metadata": {},
   "outputs": [
    {
     "data": {
      "text/plain": [
       "customer_id       False\n",
       "ontime_target%    False\n",
       "infull_target%    False\n",
       "otif_target%      False\n",
       "dtype: bool"
      ]
     },
     "execution_count": 43,
     "metadata": {},
     "output_type": "execute_result"
    }
   ],
   "source": [
    "dim_targets_orders_df.isnull().any()"
   ]
  },
  {
   "cell_type": "code",
   "execution_count": 44,
   "id": "66672e68",
   "metadata": {},
   "outputs": [
    {
     "data": {
      "text/plain": [
       "order_id                False\n",
       "order_placement_date    False\n",
       "customer_id             False\n",
       "product_id              False\n",
       "order_qty               False\n",
       "agreed_delivery_date    False\n",
       "actual_delivery_date    False\n",
       "delivery_qty            False\n",
       "In Full                 False\n",
       "On Time                 False\n",
       "On Time In Full         False\n",
       "dtype: bool"
      ]
     },
     "execution_count": 44,
     "metadata": {},
     "output_type": "execute_result"
    }
   ],
   "source": [
    "fact_order_lines_df.isnull().any()"
   ]
  },
  {
   "cell_type": "code",
   "execution_count": 45,
   "id": "3a40c233",
   "metadata": {},
   "outputs": [
    {
     "data": {
      "text/plain": [
       "order_id                False\n",
       "customer_id             False\n",
       "order_placement_date    False\n",
       "On Time                 False\n",
       "In Full                 False\n",
       "On Time In Full         False\n",
       "dtype: bool"
      ]
     },
     "execution_count": 45,
     "metadata": {},
     "output_type": "execute_result"
    }
   ],
   "source": [
    "fact_order_aggregate_df.isnull().any()"
   ]
  },
  {
   "cell_type": "code",
   "execution_count": 55,
   "id": "b7e4bb72",
   "metadata": {},
   "outputs": [
    {
     "data": {
      "text/plain": [
       "0        False\n",
       "1        False\n",
       "2        False\n",
       "3        False\n",
       "4        False\n",
       "         ...  \n",
       "31724    False\n",
       "31725    False\n",
       "31726    False\n",
       "31727    False\n",
       "31728    False\n",
       "Length: 31729, dtype: bool"
      ]
     },
     "execution_count": 55,
     "metadata": {},
     "output_type": "execute_result"
    }
   ],
   "source": [
    "dim_customers_df.duplicated()\n",
    "dim_date_df.duplicated()\n",
    "dim_products_df.duplicated()\n",
    "dim_targets_orders_df.duplicated()\n",
    "fact_order_lines_df.duplicated()\n",
    "fact_order_aggregate_df.duplicated()"
   ]
  },
  {
   "cell_type": "code",
   "execution_count": 62,
   "id": "9ac58a66",
   "metadata": {},
   "outputs": [
    {
     "data": {
      "text/plain": [
       "order_id                object\n",
       "customer_id              int64\n",
       "order_placement_date    object\n",
       "On Time                  int64\n",
       "In Full                  int64\n",
       "On Time In Full          int64\n",
       "dtype: object"
      ]
     },
     "execution_count": 62,
     "metadata": {},
     "output_type": "execute_result"
    }
   ],
   "source": [
    "#Data Types\n",
    "dim_customers_df.dtypes\n",
    "dim_date_df.dtypes\n",
    "dim_products_df.dtypes\n",
    "dim_targets_orders_df.dtypes\n",
    "fact_order_lines_df.dtypes\n",
    "fact_order_aggregate_df.dtypes"
   ]
  },
  {
   "cell_type": "code",
   "execution_count": 63,
   "id": "855bc2dd",
   "metadata": {},
   "outputs": [
    {
     "data": {
      "text/plain": [
       "order_id                object\n",
       "customer_id              int64\n",
       "order_placement_date    object\n",
       "On Time                  int64\n",
       "In Full                  int64\n",
       "On Time In Full          int64\n",
       "dtype: object"
      ]
     },
     "execution_count": 63,
     "metadata": {},
     "output_type": "execute_result"
    }
   ],
   "source": [
    "fact_order_aggregate_df.dtypes"
   ]
  },
  {
   "cell_type": "code",
   "execution_count": 66,
   "id": "4432f090",
   "metadata": {},
   "outputs": [
    {
     "data": {
      "text/plain": [
       "order_id                object\n",
       "order_placement_date    object\n",
       "customer_id              int64\n",
       "product_id               int64\n",
       "order_qty                int64\n",
       "agreed_delivery_date    object\n",
       "actual_delivery_date    object\n",
       "delivery_qty             int64\n",
       "In Full                  int64\n",
       "On Time                  int64\n",
       "On Time In Full          int64\n",
       "dtype: object"
      ]
     },
     "execution_count": 66,
     "metadata": {},
     "output_type": "execute_result"
    }
   ],
   "source": [
    "fact_order_lines_df.dtypes"
   ]
  },
  {
   "cell_type": "code",
   "execution_count": null,
   "id": "d58c1eb1",
   "metadata": {},
   "outputs": [],
   "source": []
  }
 ],
 "metadata": {
  "kernelspec": {
   "display_name": "Python 3 (ipykernel)",
   "language": "python",
   "name": "python3"
  },
  "language_info": {
   "codemirror_mode": {
    "name": "ipython",
    "version": 3
   },
   "file_extension": ".py",
   "mimetype": "text/x-python",
   "name": "python",
   "nbconvert_exporter": "python",
   "pygments_lexer": "ipython3",
   "version": "3.11.4"
  }
 },
 "nbformat": 4,
 "nbformat_minor": 5
}
